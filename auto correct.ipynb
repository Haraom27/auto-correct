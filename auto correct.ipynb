{
 "cells": [
  {
   "cell_type": "code",
   "execution_count": 1,
   "id": "e3330d14",
   "metadata": {},
   "outputs": [
    {
     "name": "stdout",
     "output_type": "stream",
     "text": [
      "Original Sentence: I like appl and banan\n",
      "Corrected Sentence: I like apple and banana\n"
     ]
    }
   ],
   "source": [
    "import difflib\n",
    "\n",
    "# Sample list of words as a reference for correction\n",
    "REFERENCE_WORDS = ['apple', 'banana', 'orange', 'grape', 'pear']\n",
    "\n",
    "def get_closest_word(word):\n",
    "    # Find the closest word in the reference list using difflib's get_close_matches\n",
    "    closest_words = difflib.get_close_matches(word, REFERENCE_WORDS, n=1, cutoff=0.8)\n",
    "    if closest_words:\n",
    "        return closest_words[0]\n",
    "    else:\n",
    "        return None\n",
    "\n",
    "def auto_correct_sentence(sentence):\n",
    "    # Split the sentence into words\n",
    "    words = sentence.split()\n",
    "\n",
    "    # Correct each word in the sentence\n",
    "    corrected_sentence = []\n",
    "    for word in words:\n",
    "        corrected_word = get_closest_word(word.lower())\n",
    "        if corrected_word:\n",
    "            corrected_sentence.append(corrected_word)\n",
    "        else:\n",
    "            corrected_sentence.append(word)\n",
    "\n",
    "    return ' '.join(corrected_sentence)\n",
    "\n",
    "if __name__ == \"__main__\":\n",
    "    # Test the auto-correct tool\n",
    "    input_sentence = \"I like appl and banan\"\n",
    "    corrected_sentence = auto_correct_sentence(input_sentence)\n",
    "    print(\"Original Sentence:\", input_sentence)\n",
    "    print(\"Corrected Sentence:\", corrected_sentence)"
   ]
  },
  {
   "cell_type": "code",
   "execution_count": null,
   "id": "6f28bcbe",
   "metadata": {},
   "outputs": [],
   "source": []
  },
  {
   "cell_type": "code",
   "execution_count": null,
   "id": "bbf881f9",
   "metadata": {},
   "outputs": [],
   "source": []
  }
 ],
 "metadata": {
  "kernelspec": {
   "display_name": "Python 3 (ipykernel)",
   "language": "python",
   "name": "python3"
  },
  "language_info": {
   "codemirror_mode": {
    "name": "ipython",
    "version": 3
   },
   "file_extension": ".py",
   "mimetype": "text/x-python",
   "name": "python",
   "nbconvert_exporter": "python",
   "pygments_lexer": "ipython3",
   "version": "3.10.9"
  }
 },
 "nbformat": 4,
 "nbformat_minor": 5
}
